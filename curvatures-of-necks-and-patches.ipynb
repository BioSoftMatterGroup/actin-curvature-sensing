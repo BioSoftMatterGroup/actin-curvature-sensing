{
 "cells": [
  {
   "cell_type": "code",
   "execution_count": 1,
   "metadata": {},
   "outputs": [],
   "source": [
    "import numpy as np\n",
    "import pandas as pd\n",
    "import seaborn as sns\n",
    "from matplotlib import pyplot as plt\n",
    "import numpy as np\n",
    "from os import listdir\n",
    "import scipy"
   ]
  },
  {
   "cell_type": "code",
   "execution_count": 2,
   "metadata": {},
   "outputs": [],
   "source": [
    "sns.set_context('talk')"
   ]
  },
  {
   "cell_type": "code",
   "execution_count": 3,
   "metadata": {},
   "outputs": [],
   "source": [
    "def find_csv_filenames( path_to_dir, suffix=\".csv\" ):\n",
    "    filenames = listdir(path_to_dir)\n",
    "    return [ filename for filename in filenames if filename.endswith( suffix ) ]"
   ]
  },
  {
   "cell_type": "markdown",
   "metadata": {},
   "source": [
    "# Dumbbell neck curvatures"
   ]
  },
  {
   "cell_type": "code",
   "execution_count": 4,
   "metadata": {},
   "outputs": [
    {
     "name": "stdout",
     "output_type": "stream",
     "text": [
      "O:\\TUD\\__eDICE-paper\\__for-paper\\data_publication\\dumbbell-neck-curvatures\n"
     ]
    }
   ],
   "source": [
    "cd O:\\TUD\\__eDICE-paper\\__for-paper\\data_publication\\dumbbell-neck-curvatures"
   ]
  },
  {
   "cell_type": "code",
   "execution_count": 5,
   "metadata": {},
   "outputs": [
    {
     "data": {
      "text/html": [
       "<div>\n",
       "<style scoped>\n",
       "    .dataframe tbody tr th:only-of-type {\n",
       "        vertical-align: middle;\n",
       "    }\n",
       "\n",
       "    .dataframe tbody tr th {\n",
       "        vertical-align: top;\n",
       "    }\n",
       "\n",
       "    .dataframe thead th {\n",
       "        text-align: right;\n",
       "    }\n",
       "</style>\n",
       "<table border=\"1\" class=\"dataframe\">\n",
       "  <thead>\n",
       "    <tr style=\"text-align: right;\">\n",
       "      <th></th>\n",
       "      <th>Curve Name</th>\n",
       "      <th>Curve Length (um)</th>\n",
       "      <th>Average Curvature (um-1)</th>\n",
       "      <th>Curvature Std (um-1)</th>\n",
       "      <th>X-Coordinate (um)</th>\n",
       "      <th>Y-Coordinate (um)</th>\n",
       "      <th>Point Curvature (um-1)</th>\n",
       "      <th>Point Curvature Sign</th>\n",
       "      <th>Red Intensity</th>\n",
       "      <th>Green Intensity</th>\n",
       "      <th>Blue Intensity</th>\n",
       "      <th>file</th>\n",
       "      <th>curvature signed (um-1)</th>\n",
       "    </tr>\n",
       "  </thead>\n",
       "  <tbody>\n",
       "    <tr>\n",
       "      <th>0</th>\n",
       "      <td>CURVE 142</td>\n",
       "      <td>3.142104</td>\n",
       "      <td>0.607976</td>\n",
       "      <td>0.589562</td>\n",
       "      <td>3.337143</td>\n",
       "      <td>4.708571</td>\n",
       "      <td>0.013168</td>\n",
       "      <td>-1</td>\n",
       "      <td>0.0</td>\n",
       "      <td>4.0</td>\n",
       "      <td>3.0</td>\n",
       "      <td>20220114_run1_ArpB5L-5uMVCA-8uMactin_R4-1_side...</td>\n",
       "      <td>-0.013168</td>\n",
       "    </tr>\n",
       "    <tr>\n",
       "      <th>1</th>\n",
       "      <td>CURVE 142</td>\n",
       "      <td>3.142104</td>\n",
       "      <td>0.607976</td>\n",
       "      <td>0.589562</td>\n",
       "      <td>3.351003</td>\n",
       "      <td>4.695781</td>\n",
       "      <td>0.014013</td>\n",
       "      <td>-1</td>\n",
       "      <td>0.0</td>\n",
       "      <td>4.0</td>\n",
       "      <td>3.0</td>\n",
       "      <td>20220114_run1_ArpB5L-5uMVCA-8uMactin_R4-1_side...</td>\n",
       "      <td>-0.014013</td>\n",
       "    </tr>\n",
       "    <tr>\n",
       "      <th>2</th>\n",
       "      <td>CURVE 142</td>\n",
       "      <td>3.142104</td>\n",
       "      <td>0.607976</td>\n",
       "      <td>0.589562</td>\n",
       "      <td>3.364725</td>\n",
       "      <td>4.683124</td>\n",
       "      <td>0.014894</td>\n",
       "      <td>-1</td>\n",
       "      <td>1.0</td>\n",
       "      <td>6.0</td>\n",
       "      <td>2.0</td>\n",
       "      <td>20220114_run1_ArpB5L-5uMVCA-8uMactin_R4-1_side...</td>\n",
       "      <td>-0.014894</td>\n",
       "    </tr>\n",
       "  </tbody>\n",
       "</table>\n",
       "</div>"
      ],
      "text/plain": [
       "  Curve Name  Curve Length (um)  Average Curvature (um-1)  \\\n",
       "0  CURVE 142           3.142104                  0.607976   \n",
       "1  CURVE 142           3.142104                  0.607976   \n",
       "2  CURVE 142           3.142104                  0.607976   \n",
       "\n",
       "   Curvature Std (um-1)  X-Coordinate (um)  Y-Coordinate (um)  \\\n",
       "0              0.589562           3.337143           4.708571   \n",
       "1              0.589562           3.351003           4.695781   \n",
       "2              0.589562           3.364725           4.683124   \n",
       "\n",
       "   Point Curvature (um-1)  Point Curvature Sign  Red Intensity  \\\n",
       "0                0.013168                    -1            0.0   \n",
       "1                0.014013                    -1            0.0   \n",
       "2                0.014894                    -1            1.0   \n",
       "\n",
       "   Green Intensity  Blue Intensity  \\\n",
       "0              4.0             3.0   \n",
       "1              4.0             3.0   \n",
       "2              6.0             2.0   \n",
       "\n",
       "                                                file  curvature signed (um-1)  \n",
       "0  20220114_run1_ArpB5L-5uMVCA-8uMactin_R4-1_side...                -0.013168  \n",
       "1  20220114_run1_ArpB5L-5uMVCA-8uMactin_R4-1_side...                -0.014013  \n",
       "2  20220114_run1_ArpB5L-5uMVCA-8uMactin_R4-1_side...                -0.014894  "
      ]
     },
     "execution_count": 5,
     "metadata": {},
     "output_type": "execute_result"
    }
   ],
   "source": [
    "# find files with actin dumbbell neck profiles (data extracted from images using Fiji plugin Kappa)\n",
    "thefilepath = r'O:\\TUD\\__eDICE-paper\\__for-paper\\data_publication\\dumbbell-neck-curvatures'\n",
    "files_csv = find_csv_filenames( thefilepath )\n",
    "\n",
    "df = pd.DataFrame()\n",
    "for file in files_csv:\n",
    "    tempdf = pd.read_csv(file) \n",
    "    tempdf['file']=file\n",
    "    df = pd.concat([df, tempdf])\n",
    "    \n",
    "df['curvature signed (um-1)'] = df['Point Curvature (um-1)']*df['Point Curvature Sign']\n",
    "\n",
    "df.head(3)"
   ]
  },
  {
   "cell_type": "code",
   "execution_count": 6,
   "metadata": {},
   "outputs": [
    {
     "name": "stdout",
     "output_type": "stream",
     "text": [
      "94\n"
     ]
    },
    {
     "data": {
      "image/png": "[encoded data removed]",
      "text/plain": [
       "<Figure size 72x288 with 1 Axes>"
      ]
     },
     "metadata": {
      "needs_background": "light"
     },
     "output_type": "display_data"
    }
   ],
   "source": [
    "# data to plot: minimum curvature (= most negative curvature) for each trace of a neck outline\n",
    "df_mins = df.groupby('file').min().reset_index()\n",
    "\n",
    "f = plt.figure(figsize=[1, 4])\n",
    "\n",
    "ax = sns.stripplot(data=df_mins, y='curvature signed (um-1)', color='c', s=9, alpha=0.5)\n",
    "sns.boxplot(data=df_mins, y='curvature signed (um-1)',color='w')\n",
    "\n",
    "ax.set_ylim(-1.501, 0)\n",
    "ax.set_ylabel('curvature ($\\mathregular{\\mu m^{-1}}$)')\n",
    "\n",
    "print(len(df_mins))\n",
    "\n",
    "fig = ax.get_figure()\n",
    "fig.savefig('neck-curvatures.png', dpi=300, bbox_inches='tight')"
   ]
  },
  {
   "cell_type": "code",
   "execution_count": 7,
   "metadata": {},
   "outputs": [
    {
     "data": {
      "text/plain": [
       "-0.4338763009397228"
      ]
     },
     "execution_count": 7,
     "metadata": {},
     "output_type": "execute_result"
    }
   ],
   "source": [
    "# mean curvature at neck apex\n",
    "df_mins.mean()['curvature signed (um-1)']"
   ]
  },
  {
   "cell_type": "code",
   "execution_count": 8,
   "metadata": {},
   "outputs": [],
   "source": [
    "df_neck_mins = df_mins"
   ]
  },
  {
   "cell_type": "markdown",
   "metadata": {},
   "source": [
    "# Concave patch curvatures"
   ]
  },
  {
   "cell_type": "code",
   "execution_count": 9,
   "metadata": {},
   "outputs": [
    {
     "name": "stdout",
     "output_type": "stream",
     "text": [
      "O:\\TUD\\__eDICE-paper\\__for-paper\\data_publication\\concave-patch-curvatures\n"
     ]
    }
   ],
   "source": [
    "cd O:\\TUD\\__eDICE-paper\\__for-paper\\data_publication\\concave-patch-curvatures"
   ]
  },
  {
   "cell_type": "code",
   "execution_count": 10,
   "metadata": {},
   "outputs": [
    {
     "data": {
      "text/html": [
       "<div>\n",
       "<style scoped>\n",
       "    .dataframe tbody tr th:only-of-type {\n",
       "        vertical-align: middle;\n",
       "    }\n",
       "\n",
       "    .dataframe tbody tr th {\n",
       "        vertical-align: top;\n",
       "    }\n",
       "\n",
       "    .dataframe thead th {\n",
       "        text-align: right;\n",
       "    }\n",
       "</style>\n",
       "<table border=\"1\" class=\"dataframe\">\n",
       "  <thead>\n",
       "    <tr style=\"text-align: right;\">\n",
       "      <th></th>\n",
       "      <th>Curve Name</th>\n",
       "      <th>Curve Length (um)</th>\n",
       "      <th>Average Curvature (um-1)</th>\n",
       "      <th>Curvature Std (um-1)</th>\n",
       "      <th>X-Coordinate (um)</th>\n",
       "      <th>Y-Coordinate (um)</th>\n",
       "      <th>Point Curvature (um-1)</th>\n",
       "      <th>Point Curvature Sign</th>\n",
       "      <th>Red Intensity</th>\n",
       "      <th>Green Intensity</th>\n",
       "      <th>Blue Intensity</th>\n",
       "      <th>file</th>\n",
       "      <th>curvature signed (um-1)</th>\n",
       "    </tr>\n",
       "  </thead>\n",
       "  <tbody>\n",
       "    <tr>\n",
       "      <th>0</th>\n",
       "      <td>CURVE 25</td>\n",
       "      <td>8.18314</td>\n",
       "      <td>0.34448</td>\n",
       "      <td>0.2998</td>\n",
       "      <td>4.106667</td>\n",
       "      <td>9.333333</td>\n",
       "      <td>0.024834</td>\n",
       "      <td>-1</td>\n",
       "      <td>443.0</td>\n",
       "      <td>147.0</td>\n",
       "      <td>317.0</td>\n",
       "      <td>20211112_run1_8uMactin_1uLCaP_00117-1_z13__z11...</td>\n",
       "      <td>-0.024834</td>\n",
       "    </tr>\n",
       "    <tr>\n",
       "      <th>1</th>\n",
       "      <td>CURVE 25</td>\n",
       "      <td>8.18314</td>\n",
       "      <td>0.34448</td>\n",
       "      <td>0.2998</td>\n",
       "      <td>4.119118</td>\n",
       "      <td>9.307210</td>\n",
       "      <td>0.025637</td>\n",
       "      <td>-1</td>\n",
       "      <td>443.0</td>\n",
       "      <td>147.0</td>\n",
       "      <td>317.0</td>\n",
       "      <td>20211112_run1_8uMactin_1uLCaP_00117-1_z13__z11...</td>\n",
       "      <td>-0.025637</td>\n",
       "    </tr>\n",
       "    <tr>\n",
       "      <th>2</th>\n",
       "      <td>CURVE 25</td>\n",
       "      <td>8.18314</td>\n",
       "      <td>0.34448</td>\n",
       "      <td>0.2998</td>\n",
       "      <td>4.131473</td>\n",
       "      <td>9.281339</td>\n",
       "      <td>0.026465</td>\n",
       "      <td>-1</td>\n",
       "      <td>443.0</td>\n",
       "      <td>147.0</td>\n",
       "      <td>317.0</td>\n",
       "      <td>20211112_run1_8uMactin_1uLCaP_00117-1_z13__z11...</td>\n",
       "      <td>-0.026465</td>\n",
       "    </tr>\n",
       "  </tbody>\n",
       "</table>\n",
       "</div>"
      ],
      "text/plain": [
       "  Curve Name  Curve Length (um)  Average Curvature (um-1)  \\\n",
       "0   CURVE 25            8.18314                   0.34448   \n",
       "1   CURVE 25            8.18314                   0.34448   \n",
       "2   CURVE 25            8.18314                   0.34448   \n",
       "\n",
       "   Curvature Std (um-1)  X-Coordinate (um)  Y-Coordinate (um)  \\\n",
       "0                0.2998           4.106667           9.333333   \n",
       "1                0.2998           4.119118           9.307210   \n",
       "2                0.2998           4.131473           9.281339   \n",
       "\n",
       "   Point Curvature (um-1)  Point Curvature Sign  Red Intensity  \\\n",
       "0                0.024834                    -1          443.0   \n",
       "1                0.025637                    -1          443.0   \n",
       "2                0.026465                    -1          443.0   \n",
       "\n",
       "   Green Intensity  Blue Intensity  \\\n",
       "0            147.0           317.0   \n",
       "1            147.0           317.0   \n",
       "2            147.0           317.0   \n",
       "\n",
       "                                                file  curvature signed (um-1)  \n",
       "0  20211112_run1_8uMactin_1uLCaP_00117-1_z13__z11...                -0.024834  \n",
       "1  20211112_run1_8uMactin_1uLCaP_00117-1_z13__z11...                -0.025637  \n",
       "2  20211112_run1_8uMactin_1uLCaP_00117-1_z13__z11...                -0.026465  "
      ]
     },
     "execution_count": 10,
     "metadata": {},
     "output_type": "execute_result"
    }
   ],
   "source": [
    "# find files with actin dumbbell neck profiles (data extracted from images using Fiji plugin Kappa)\n",
    "thefilepath = r'O:\\TUD\\__eDICE-paper\\__for-paper\\data_publication\\concave-patch-curvatures'\n",
    "files_csv = find_csv_filenames( thefilepath )\n",
    "\n",
    "df = pd.DataFrame()\n",
    "for file in files_csv:\n",
    "    tempdf = pd.read_csv(file) \n",
    "    tempdf['file']=file\n",
    "    df = pd.concat([df, tempdf])\n",
    "    \n",
    "df['curvature signed (um-1)'] = df['Point Curvature (um-1)']*df['Point Curvature Sign']\n",
    "\n",
    "df.head(3)"
   ]
  },
  {
   "cell_type": "code",
   "execution_count": 11,
   "metadata": {},
   "outputs": [
    {
     "name": "stdout",
     "output_type": "stream",
     "text": [
      "37\n"
     ]
    },
    {
     "data": {
      "image/png": "[encoded data removed]",
      "text/plain": [
       "<Figure size 72x288 with 1 Axes>"
      ]
     },
     "metadata": {
      "needs_background": "light"
     },
     "output_type": "display_data"
    }
   ],
   "source": [
    "# data to plot: minimum curvature (= most negative curvature) for each trace of a neck outline\n",
    "df_mins = df.groupby('file').min().reset_index()\n",
    "\n",
    "f = plt.figure(figsize=[1, 4])\n",
    "\n",
    "ax = sns.stripplot(data=df_mins, y='curvature signed (um-1)', color='c', s=9, alpha=0.5)\n",
    "sns.boxplot(data=df_mins, y='curvature signed (um-1)',color='w')\n",
    "\n",
    "ax.set_ylim(-1.501, 0)\n",
    "ax.set_ylabel('curvature ($\\mathregular{\\mu m^{-1}}$)')\n",
    "\n",
    "print(len(df_mins))\n",
    "\n",
    "fig = ax.get_figure()\n",
    "fig.savefig('patch-curvatures.png', dpi=300, bbox_inches='tight')"
   ]
  },
  {
   "cell_type": "code",
   "execution_count": 12,
   "metadata": {},
   "outputs": [],
   "source": [
    "df_patch_mins = df_mins"
   ]
  },
  {
   "cell_type": "markdown",
   "metadata": {},
   "source": [
    "# Comparing neck and patch curvatures"
   ]
  },
  {
   "cell_type": "code",
   "execution_count": 13,
   "metadata": {},
   "outputs": [],
   "source": [
    "df_patch_mins['loc']='patch'\n",
    "df_neck_mins['loc']='neck'\n",
    "df_both = pd.concat([df_patch_mins, df_neck_mins])"
   ]
  },
  {
   "cell_type": "code",
   "execution_count": 14,
   "metadata": {},
   "outputs": [
    {
     "name": "stdout",
     "output_type": "stream",
     "text": [
      "37\n"
     ]
    },
    {
     "data": {
      "image/png": "[encoded data removed]",
      "text/plain": [
       "<Figure size 129.6x288 with 1 Axes>"
      ]
     },
     "metadata": {
      "needs_background": "light"
     },
     "output_type": "display_data"
    }
   ],
   "source": [
    "f = plt.figure(figsize=[1.8, 4])\n",
    "ax = sns.stripplot(data=df_both, x='loc', y='curvature signed (um-1)',color='c', s=10, alpha=0.5)\n",
    "sns.boxplot(data=df_both, x='loc', y='curvature signed (um-1)',color='w')\n",
    "\n",
    "ax.set_ylim(-1.501, 0)\n",
    "ax.set_ylabel('curvature ($\\mathregular{\\mu m^{-1}}$)')\n",
    "ax.set_xlabel('')\n",
    "\n",
    "print(len(df_mins))\n",
    "\n",
    "fig = ax.get_figure()\n",
    "fig.savefig('both-curvatures.png', dpi=300, bbox_inches='tight')"
   ]
  },
  {
   "cell_type": "markdown",
   "metadata": {},
   "source": [
    "Welch's t-test"
   ]
  },
  {
   "cell_type": "code",
   "execution_count": 15,
   "metadata": {},
   "outputs": [
    {
     "data": {
      "text/plain": [
       "Ttest_indResult(statistic=-1.85545417606153, pvalue=0.06671051190957637)"
      ]
     },
     "execution_count": 15,
     "metadata": {},
     "output_type": "execute_result"
    }
   ],
   "source": [
    "scipy.stats.ttest_ind(df_patch_mins['curvature signed (um-1)'], df_neck_mins['curvature signed (um-1)'], equal_var=False)"
   ]
  }
 ],
 "metadata": {
  "kernelspec": {
   "display_name": "Python 3",
   "language": "python",
   "name": "python3"
  },
  "language_info": {
   "codemirror_mode": {
    "name": "ipython",
    "version": 3
   },
   "file_extension": ".py",
   "mimetype": "text/x-python",
   "name": "python",
   "nbconvert_exporter": "python",
   "pygments_lexer": "ipython3",
   "version": "3.8.5"
  }
 },
 "nbformat": 4,
 "nbformat_minor": 4
}
