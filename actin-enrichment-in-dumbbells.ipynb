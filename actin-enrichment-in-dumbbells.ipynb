{
 "cells": [
  {
   "cell_type": "markdown",
   "metadata": {},
   "source": [
    "# General"
   ]
  },
  {
   "cell_type": "code",
   "execution_count": 1,
   "metadata": {},
   "outputs": [],
   "source": [
    "from os import listdir\n",
    "import numpy as np\n",
    "import pandas as pd\n",
    "import seaborn as sns\n",
    "from matplotlib import pyplot as plt\n",
    "import numpy as np\n",
    "import matplotlib.patches as mpatches"
   ]
  },
  {
   "cell_type": "code",
   "execution_count": 2,
   "metadata": {},
   "outputs": [],
   "source": [
    "sns.set_context('talk')"
   ]
  },
  {
   "cell_type": "code",
   "execution_count": 3,
   "metadata": {},
   "outputs": [],
   "source": [
    "def find_csv_filenames( path_to_dir, suffix=\".csv\" ):\n",
    "    filenames = listdir(path_to_dir)\n",
    "    return [ filename for filename in filenames if filename.endswith( suffix ) ]"
   ]
  },
  {
   "cell_type": "markdown",
   "metadata": {},
   "source": [
    "# Quantifying enrichment of actin at dumbbell GUV necks"
   ]
  },
  {
   "cell_type": "code",
   "execution_count": 4,
   "metadata": {},
   "outputs": [
    {
     "name": "stdout",
     "output_type": "stream",
     "text": [
      "O:\\TUD\\__eDICE-paper\\__for-paper\\data_publication\\actin-enrichment_dumbbells\n"
     ]
    }
   ],
   "source": [
    "cd O:\\TUD\\__eDICE-paper\\__for-paper\\data_publication\\actin-enrichment_dumbbells"
   ]
  },
  {
   "cell_type": "markdown",
   "metadata": {},
   "source": [
    "### Load full profiles across membrane (along symmetry axis and across neck)"
   ]
  },
  {
   "cell_type": "markdown",
   "metadata": {},
   "source": [
    "Locate data"
   ]
  },
  {
   "cell_type": "code",
   "execution_count": 5,
   "metadata": {},
   "outputs": [],
   "source": [
    "thefilepath = r'O:\\TUD\\__eDICE-paper\\__for-paper\\data_publication\\actin-enrichment_dumbbells'\n",
    "\n",
    "files_csv = find_csv_filenames( thefilepath )\n",
    "files_tif = find_csv_filenames( thefilepath, suffix='.tif' )"
   ]
  },
  {
   "cell_type": "markdown",
   "metadata": {},
   "source": [
    "Load data along symmetry axis of each GUV"
   ]
  },
  {
   "cell_type": "code",
   "execution_count": 6,
   "metadata": {},
   "outputs": [
    {
     "data": {
      "text/html": [
       "<div>\n",
       "<style scoped>\n",
       "    .dataframe tbody tr th:only-of-type {\n",
       "        vertical-align: middle;\n",
       "    }\n",
       "\n",
       "    .dataframe tbody tr th {\n",
       "        vertical-align: top;\n",
       "    }\n",
       "\n",
       "    .dataframe thead th {\n",
       "        text-align: right;\n",
       "    }\n",
       "</style>\n",
       "<table border=\"1\" class=\"dataframe\">\n",
       "  <thead>\n",
       "    <tr style=\"text-align: right;\">\n",
       "      <th></th>\n",
       "      <th>distance (um)</th>\n",
       "      <th>actin intensity</th>\n",
       "      <th>membrane intensity</th>\n",
       "      <th>image</th>\n",
       "      <th>microscope</th>\n",
       "    </tr>\n",
       "  </thead>\n",
       "  <tbody>\n",
       "    <tr>\n",
       "      <th>0</th>\n",
       "      <td>0.0000</td>\n",
       "      <td>0.0</td>\n",
       "      <td>0.0499</td>\n",
       "      <td>20220114_run1_ArpB5L-5uMVCA-8uMactin_R4-1</td>\n",
       "      <td>Stellaris</td>\n",
       "    </tr>\n",
       "    <tr>\n",
       "      <th>1</th>\n",
       "      <td>0.3593</td>\n",
       "      <td>0.0</td>\n",
       "      <td>0.1505</td>\n",
       "      <td>20220114_run1_ArpB5L-5uMVCA-8uMactin_R4-1</td>\n",
       "      <td>Stellaris</td>\n",
       "    </tr>\n",
       "    <tr>\n",
       "      <th>2</th>\n",
       "      <td>0.7187</td>\n",
       "      <td>0.0</td>\n",
       "      <td>0.1895</td>\n",
       "      <td>20220114_run1_ArpB5L-5uMVCA-8uMactin_R4-1</td>\n",
       "      <td>Stellaris</td>\n",
       "    </tr>\n",
       "  </tbody>\n",
       "</table>\n",
       "</div>"
      ],
      "text/plain": [
       "   distance (um)  actin intensity  membrane intensity  \\\n",
       "0         0.0000              0.0              0.0499   \n",
       "1         0.3593              0.0              0.1505   \n",
       "2         0.7187              0.0              0.1895   \n",
       "\n",
       "                                       image microscope  \n",
       "0  20220114_run1_ArpB5L-5uMVCA-8uMactin_R4-1  Stellaris  \n",
       "1  20220114_run1_ArpB5L-5uMVCA-8uMactin_R4-1  Stellaris  \n",
       "2  20220114_run1_ArpB5L-5uMVCA-8uMactin_R4-1  Stellaris  "
      ]
     },
     "execution_count": 6,
     "metadata": {},
     "output_type": "execute_result"
    }
   ],
   "source": [
    "# initialize dataframe\n",
    "df_symm = pd.DataFrame()\n",
    "\n",
    "# iterate over GUVs\n",
    "for file in files_tif:\n",
    "    \n",
    "    basename = file.split('.tif')[0]\n",
    "    \n",
    "    df_temp = pd.DataFrame(columns=['distance (um)', \n",
    "                                    'actin intensity', 'membrane intensity', \n",
    "                                    'image'])\n",
    "    # load profiles\n",
    "    df_actin_temp = pd.read_csv(basename+'__actin_profile-axis.csv', skiprows=[0],\n",
    "                                names=['distance (um)', 'grey actin'])\n",
    "    df_membrane_temp = pd.read_csv(basename+'__membrane_profile-axis.csv', skiprows=[0],\n",
    "                                names=['distance (um)', 'grey membrane'])\n",
    "\n",
    "    df_temp['distance (um)']=df_actin_temp['distance (um)']\n",
    "    df_temp['actin intensity']=df_actin_temp['grey actin']\n",
    "    df_temp['membrane intensity']=df_membrane_temp['grey membrane']\n",
    "    df_temp['image']=len(df_temp)*[basename]\n",
    "    \n",
    "    # associate microscope on which data was acquired\n",
    "    if int(file[0:8]) < 20220101:\n",
    "        df_temp['microscope']='BN SD'\n",
    "    else:\n",
    "        df_temp['microscope']='Stellaris'\n",
    "\n",
    "\n",
    "    # write into one common dataframe\n",
    "    df_symm = pd.concat([df_symm, df_temp])\n",
    "\n",
    "# display first lines of the dataframe    \n",
    "df_symm.head(3)"
   ]
  },
  {
   "cell_type": "markdown",
   "metadata": {},
   "source": [
    "Load data along through neck of each GUV"
   ]
  },
  {
   "cell_type": "code",
   "execution_count": 7,
   "metadata": {},
   "outputs": [
    {
     "data": {
      "text/html": [
       "<div>\n",
       "<style scoped>\n",
       "    .dataframe tbody tr th:only-of-type {\n",
       "        vertical-align: middle;\n",
       "    }\n",
       "\n",
       "    .dataframe tbody tr th {\n",
       "        vertical-align: top;\n",
       "    }\n",
       "\n",
       "    .dataframe thead th {\n",
       "        text-align: right;\n",
       "    }\n",
       "</style>\n",
       "<table border=\"1\" class=\"dataframe\">\n",
       "  <thead>\n",
       "    <tr style=\"text-align: right;\">\n",
       "      <th></th>\n",
       "      <th>distance (um)</th>\n",
       "      <th>actin intensity</th>\n",
       "      <th>membrane intensity</th>\n",
       "      <th>image</th>\n",
       "    </tr>\n",
       "  </thead>\n",
       "  <tbody>\n",
       "    <tr>\n",
       "      <th>0</th>\n",
       "      <td>0.0000</td>\n",
       "      <td>0.0</td>\n",
       "      <td>0.2843</td>\n",
       "      <td>20220114_run1_ArpB5L-5uMVCA-8uMactin_R4-1</td>\n",
       "    </tr>\n",
       "    <tr>\n",
       "      <th>1</th>\n",
       "      <td>0.3593</td>\n",
       "      <td>0.0</td>\n",
       "      <td>0.1985</td>\n",
       "      <td>20220114_run1_ArpB5L-5uMVCA-8uMactin_R4-1</td>\n",
       "    </tr>\n",
       "    <tr>\n",
       "      <th>2</th>\n",
       "      <td>0.7187</td>\n",
       "      <td>0.0</td>\n",
       "      <td>0.0000</td>\n",
       "      <td>20220114_run1_ArpB5L-5uMVCA-8uMactin_R4-1</td>\n",
       "    </tr>\n",
       "  </tbody>\n",
       "</table>\n",
       "</div>"
      ],
      "text/plain": [
       "   distance (um)  actin intensity  membrane intensity  \\\n",
       "0         0.0000              0.0              0.2843   \n",
       "1         0.3593              0.0              0.1985   \n",
       "2         0.7187              0.0              0.0000   \n",
       "\n",
       "                                       image  \n",
       "0  20220114_run1_ArpB5L-5uMVCA-8uMactin_R4-1  \n",
       "1  20220114_run1_ArpB5L-5uMVCA-8uMactin_R4-1  \n",
       "2  20220114_run1_ArpB5L-5uMVCA-8uMactin_R4-1  "
      ]
     },
     "execution_count": 7,
     "metadata": {},
     "output_type": "execute_result"
    }
   ],
   "source": [
    "# initialize dataframe\n",
    "df_neck = pd.DataFrame()\n",
    "\n",
    "# iterate over GUVs\n",
    "for file in files_tif:\n",
    "    \n",
    "    basename = file.split('.tif')[0]\n",
    "    \n",
    "    df_temp = pd.DataFrame(columns=['distance (um)', \n",
    "                                    'actin intensity', 'membrane intensity', \n",
    "                                    'image'])\n",
    "\n",
    "    # load profiles    \n",
    "    df_actin_temp = pd.read_csv(basename+'__actin_profile-neck.csv', skiprows=[0],\n",
    "                                names=['distance (um)', 'grey actin'])\n",
    "    df_membrane_temp = pd.read_csv(basename+'__membrane_profile-neck.csv', skiprows=[0],\n",
    "                                names=['distance (um)', 'grey membrane'])\n",
    "\n",
    "    df_temp['distance (um)']=df_actin_temp['distance (um)']\n",
    "    df_temp['actin intensity']=df_actin_temp['grey actin']\n",
    "    df_temp['membrane intensity']=df_membrane_temp['grey membrane']\n",
    "    df_temp['image']=len(df_temp)*[basename]\n",
    "\n",
    "\n",
    "    # write into one common dataframe\n",
    "    df_neck = pd.concat([df_neck, df_temp])\n",
    "\n",
    "    \n",
    "df_neck.head(3)"
   ]
  },
  {
   "cell_type": "code",
   "execution_count": 8,
   "metadata": {},
   "outputs": [],
   "source": [
    "# clean up data (remove duplicate indices)\n",
    "df_symm.reset_index(inplace=True, drop=True)\n",
    "df_neck.reset_index(inplace=True, drop=True)"
   ]
  },
  {
   "cell_type": "markdown",
   "metadata": {},
   "source": [
    "### Quantifying enrichment: cross line profiles"
   ]
  },
  {
   "cell_type": "markdown",
   "metadata": {},
   "source": [
    "Find maximum actin intensity along symmetry axis and across neck"
   ]
  },
  {
   "cell_type": "code",
   "execution_count": 9,
   "metadata": {},
   "outputs": [],
   "source": [
    "# find maxima\n",
    "df_cross_symm_max = df_symm.loc[df_symm.groupby('image')['actin intensity'].idxmax()]\n",
    "df_cross_neck_max = df_neck.loc[df_neck.groupby('image')['actin intensity'].idxmax()]\n",
    "# find minima = background\n",
    "df_cross_symm_min = df_symm.loc[df_symm.groupby('image')['actin intensity'].idxmin()]\n",
    "df_cross_neck_min = df_neck.loc[df_neck.groupby('image')['actin intensity'].idxmin()]\n",
    "# background subtraction\n",
    "df_cross_symm = pd.merge(df_cross_symm_max, df_cross_symm_min, \n",
    "                         how='outer', on=['image'], suffixes=[' max',' min'])\n",
    "df_cross_symm['actin bgs'] = df_cross_symm['actin intensity max']-df_cross_symm['actin intensity min']\n",
    "\n",
    "# merge data for neck and symmetry axis\n",
    "df_cross_neck = pd.merge(df_cross_neck_max, df_cross_neck_min, \n",
    "                         how='outer', on=['image'], suffixes=[' max',' min'])\n",
    "df_cross_neck['actin bgs'] = df_cross_neck['actin intensity max']-df_cross_neck['actin intensity min']\n",
    "df_cross = pd.merge(df_cross_symm, df_cross_neck, how='outer', on=['image'], suffixes=[' axis',' neck'])\n",
    "# calculate enrichment by dividing background subtracted maximum intensities\n",
    "df_cross['enrichment']=df_cross['actin bgs neck']/df_cross['actin bgs axis']"
   ]
  },
  {
   "cell_type": "code",
   "execution_count": 10,
   "metadata": {},
   "outputs": [],
   "source": [
    "# load classification of GUVs (done by hand)\n",
    "df_classification = pd.read_csv('20220408_dumbbells-enrichment-classification.txt', sep='\\t', decimal=\",\")\n",
    "\n",
    "# associate classification and enrichment data\n",
    "df_cross = pd.merge(df_classification, df_cross, how='outer', on=['image'])\n",
    "\n",
    "# convert classification to words\n",
    "df_cross.loc[df_cross['neck enrichment all round']==1, 'enrichment type'] = 'continuous'\n",
    "df_cross.loc[df_cross['neck enrichment single patch']==1, 'enrichment type'] = 'single patch'\n",
    "df_cross.loc[df_cross['neck enrichment multipatch']==1, 'enrichment type'] = 'multi patch'\n",
    "df_cross.loc[df_cross['enrichment neck']==0, 'enrichment type'] = 'no enrichment'"
   ]
  },
  {
   "cell_type": "markdown",
   "metadata": {},
   "source": [
    "## Save data"
   ]
  },
  {
   "cell_type": "code",
   "execution_count": 11,
   "metadata": {},
   "outputs": [],
   "source": [
    "df_cross.to_csv('comparing-maxima-along-and-across-neck_Stellaris.csv')\n",
    "df_symm.to_csv('all-dumbbell-profiles_along-symmetry-axis_Stellaris.csv')\n",
    "df_neck.to_csv('all-dumbbell-profiles_across-neck_Stellaris.csv')"
   ]
  },
  {
   "cell_type": "markdown",
   "metadata": {},
   "source": [
    "# Plotting"
   ]
  },
  {
   "cell_type": "markdown",
   "metadata": {},
   "source": [
    "### Enrichment quantification per GUV"
   ]
  },
  {
   "cell_type": "code",
   "execution_count": 12,
   "metadata": {},
   "outputs": [
    {
     "data": {
      "image/png": "[encoded data removed]",
      "text/plain": [
       "<Figure size 144x288 with 1 Axes>"
      ]
     },
     "metadata": {
      "needs_background": "light"
     },
     "output_type": "display_data"
    }
   ],
   "source": [
    "f = plt.figure(figsize=[2, 4])\n",
    "\n",
    "ax = sns.stripplot(data=df_cross, y='enrichment', x='actin nucleation', palette=['k','m'], s=8, alpha=0.6)\n",
    "#ax = sns.stripplot(data=df_cross.loc[df_cross['enrichment']>1], y='enrichment', x='actin nucleation',color='m', s=8, alpha=0.6)\n",
    "ax = sns.boxplot(data=df_cross, y='enrichment', x='actin nucleation', color='w')\n",
    "\n",
    "ax.set_ylabel('enrichment at neck')\n",
    "ax.set_ylim(-0,4)\n",
    "ax.set_xlabel('')\n",
    "ax.set_xticklabels([\"-Arp\",\"+Arp\"])\n",
    "\n",
    "fig = ax.get_figure()\n",
    "fig.savefig('actin-enrichment-at-neck_bgs_stellaris-dumbbells.png', dpi=300, bbox_inches='tight')"
   ]
  },
  {
   "cell_type": "markdown",
   "metadata": {},
   "source": [
    "Number of data points and mean enrichment"
   ]
  },
  {
   "cell_type": "code",
   "execution_count": 13,
   "metadata": {},
   "outputs": [
    {
     "name": "stdout",
     "output_type": "stream",
     "text": [
      "Actin nucleating spontaneously:\n",
      "N = 21\n",
      "mean enrichment = 1.0355222988281267\n"
     ]
    }
   ],
   "source": [
    "print('Actin nucleating spontaneously:')\n",
    "print('N =', len(df_cross.loc[df_cross['actin nucleation']==0]))\n",
    "print('mean enrichment =', df_cross.loc[df_cross['actin nucleation']==0].mean()['enrichment'])"
   ]
  },
  {
   "cell_type": "code",
   "execution_count": 14,
   "metadata": {},
   "outputs": [
    {
     "name": "stdout",
     "output_type": "stream",
     "text": [
      "Actin nucleating on membrane:\n",
      "N = 27\n",
      "mean enrichment = 2.1532405303587785\n"
     ]
    }
   ],
   "source": [
    "print('Actin nucleating on membrane:')\n",
    "print('N =', len(df_cross.loc[df_cross['actin nucleation']==1]))\n",
    "print('mean enrichment =', df_cross.loc[df_cross['actin nucleation']==1].mean()['enrichment'])"
   ]
  },
  {
   "cell_type": "markdown",
   "metadata": {},
   "source": [
    "### Enrichment as a function of VCA concentration"
   ]
  },
  {
   "cell_type": "code",
   "execution_count": 15,
   "metadata": {},
   "outputs": [
    {
     "name": "stdout",
     "output_type": "stream",
     "text": [
      "   VCA (uM)  enrichment neck  % of GUVs\n",
      "0       2.0              1.0  87.500000\n",
      "1       2.0              0.0  12.500000\n",
      "2       6.5              1.0  68.421053\n",
      "3       6.5              0.0  31.578947\n"
     ]
    },
    {
     "data": {
      "image/png": "[encoded data removed]",
      "text/plain": [
       "<Figure size 144x288 with 1 Axes>"
      ]
     },
     "metadata": {
      "needs_background": "light"
     },
     "output_type": "display_data"
    },
    {
     "name": "stdout",
     "output_type": "stream",
     "text": [
      "          count\n",
      "VCA (uM)       \n",
      "2.0           8\n",
      "6.5          19\n"
     ]
    }
   ],
   "source": [
    "# filter out any data points where actin is not nucleated by Arp2/3\n",
    "df_wrk = df_cross.loc[df_cross['actin nucleation']==1]\n",
    "\n",
    "# find prevalence of CHAR under different conditions of GROUP\n",
    "GROUP = 'VCA (uM)'\n",
    "CHAR = 'enrichment neck'\n",
    "TITLE = ''\n",
    "\n",
    "# find prevalence of feature\n",
    "df_temp = df_wrk.groupby(GROUP)[CHAR].value_counts(normalize=True)*100\n",
    "df_temp = df_temp.to_frame(name='% of GUVs').reset_index()\n",
    "\n",
    "# print these prevalences\n",
    "print(df_temp)\n",
    "\n",
    "\n",
    "f = plt.figure(figsize=[2, 4])\n",
    "\n",
    "# plot data in stacked bars\n",
    "total = df_temp.groupby(GROUP)['% of GUVs'].sum().reset_index()\n",
    "bar1 = sns.barplot(x=GROUP,  y=\"% of GUVs\", data=total, color='k')\n",
    "bar2 = sns.barplot(x=GROUP,  y=\"% of GUVs\", data=df_temp.loc[df_temp[CHAR]==1], color='m')\n",
    "\n",
    "# define labels\n",
    "bar1.set_title(TITLE)\n",
    "bar1.set_ylim([0,100])\n",
    "bar1.set_xlabel('VCA ($\\mathregular{\\mu M}$)')\n",
    "\n",
    "plt.show()\n",
    "\n",
    "# save figure\n",
    "fig=bar1.get_figure()\n",
    "fig.savefig('if_' + GROUP + '_then_' + CHAR +'.png', dpi=300, bbox_inches='tight')\n",
    "\n",
    "# save sample sizes for each group\n",
    "nobs = df_wrk.groupby([GROUP])[CHAR].agg(['count'])\n",
    "nobs.to_csv('if_' + GROUP + '_then_' + CHAR + '_nobs.csv')\n",
    "\n",
    "# print sample sizes\n",
    "print(nobs)"
   ]
  },
  {
   "cell_type": "code",
   "execution_count": 16,
   "metadata": {},
   "outputs": [
    {
     "name": "stdout",
     "output_type": "stream",
     "text": [
      "   cortex  enrichment neck  % of GUVs\n",
      "0     0.0              1.0  75.000000\n",
      "1     0.0              0.0  25.000000\n",
      "2     1.0              1.0  73.913043\n",
      "3     1.0              0.0  26.086957\n"
     ]
    },
    {
     "data": {
      "image/png": "[encoded data removed]",
      "text/plain": [
       "<Figure size 144x288 with 1 Axes>"
      ]
     },
     "metadata": {
      "needs_background": "light"
     },
     "output_type": "display_data"
    },
    {
     "name": "stdout",
     "output_type": "stream",
     "text": [
      "        count\n",
      "cortex       \n",
      "0.0         4\n",
      "1.0        23\n"
     ]
    }
   ],
   "source": [
    "# filter out any data points where actin is not nucleated by Arp2/3\n",
    "df_wrk = df_cross.loc[df_cross['actin nucleation']==1]\n",
    "\n",
    "# find prevalence of CHAR under different conditions of GROUP\n",
    "GROUP = 'cortex'\n",
    "CHAR = 'enrichment neck'\n",
    "TITLE = ''\n",
    "\n",
    "# find prevalence of feature\n",
    "df_temp = df_wrk.groupby(GROUP)[CHAR].value_counts(normalize=True)*100\n",
    "df_temp = df_temp.to_frame(name='% of GUVs').reset_index()\n",
    "\n",
    "# print these prevalences\n",
    "print(df_temp)\n",
    "\n",
    "\n",
    "f = plt.figure(figsize=[2, 4])\n",
    "\n",
    "# plot data in stacked bars\n",
    "total = df_temp.groupby(GROUP)['% of GUVs'].sum().reset_index()\n",
    "bar1 = sns.barplot(x=GROUP,  y=\"% of GUVs\", data=total, color='k')\n",
    "bar2 = sns.barplot(x=GROUP,  y=\"% of GUVs\", data=df_temp.loc[df_temp[CHAR]==1], color='m')\n",
    "\n",
    "# define labels\n",
    "bar1.set_title(TITLE)\n",
    "bar1.set_ylim([0,100])\n",
    "bar1.set_xlabel('VCA ($\\mathregular{\\mu M}$)')\n",
    "\n",
    "plt.show()\n",
    "\n",
    "# save figure\n",
    "fig=bar1.get_figure()\n",
    "fig.savefig('if_' + GROUP + '_then_' + CHAR +'.png', dpi=300, bbox_inches='tight')\n",
    "\n",
    "# save sample sizes for each group\n",
    "nobs = df_wrk.groupby([GROUP])[CHAR].agg(['count'])\n",
    "nobs.to_csv('if_' + GROUP + '_then_' + CHAR + '_nobs.csv')\n",
    "\n",
    "# print sample sizes\n",
    "print(nobs)"
   ]
  },
  {
   "cell_type": "code",
   "execution_count": 17,
   "metadata": {},
   "outputs": [
    {
     "name": "stdout",
     "output_type": "stream",
     "text": [
      "  Arp type  enrichment neck  % of GUVs\n",
      "0       A5              1.0  66.666667\n",
      "1       A5              0.0  33.333333\n",
      "2      B5L              1.0  70.588235\n",
      "3      B5L              0.0  29.411765\n",
      "4    brain              1.0  85.714286\n",
      "5    brain              0.0  14.285714\n"
     ]
    },
    {
     "data": {
      "image/png": "[encoded data removed]",
      "text/plain": [
       "<Figure size 216x288 with 1 Axes>"
      ]
     },
     "metadata": {
      "needs_background": "light"
     },
     "output_type": "display_data"
    },
    {
     "name": "stdout",
     "output_type": "stream",
     "text": [
      "          count\n",
      "Arp type       \n",
      "A5            3\n",
      "B5L          17\n",
      "brain         7\n"
     ]
    }
   ],
   "source": [
    "# filter out any data points where actin is not nucleated by Arp2/3\n",
    "df_wrk = df_cross.loc[df_cross['actin nucleation']==1]\n",
    "\n",
    "# find prevalence of CHAR under different conditions of GROUP\n",
    "GROUP = 'Arp type'\n",
    "CHAR = 'enrichment neck'\n",
    "TITLE = ''\n",
    "\n",
    "# find prevalence of feature\n",
    "df_temp = df_wrk.groupby(GROUP)[CHAR].value_counts(normalize=True)*100\n",
    "df_temp = df_temp.to_frame(name='% of GUVs').reset_index()\n",
    "\n",
    "# print these prevalences\n",
    "print(df_temp)\n",
    "\n",
    "\n",
    "f = plt.figure(figsize=[3, 4])\n",
    "\n",
    "# plot data in stacked bars\n",
    "total = df_temp.groupby(GROUP)['% of GUVs'].sum().reset_index()\n",
    "bar1 = sns.barplot(x=GROUP,  y=\"% of GUVs\", data=total, color='k')\n",
    "bar2 = sns.barplot(x=GROUP,  y=\"% of GUVs\", data=df_temp.loc[df_temp[CHAR]==1], color='m')\n",
    "\n",
    "# define labels\n",
    "bar1.set_title(TITLE)\n",
    "bar1.set_ylim([0,100])\n",
    "bar1.set_xlabel('VCA ($\\mathregular{\\mu M}$)')\n",
    "\n",
    "plt.show()\n",
    "\n",
    "# save figure\n",
    "fig=bar1.get_figure()\n",
    "fig.savefig('if_' + GROUP + '_then_' + CHAR +'.png', dpi=300, bbox_inches='tight')\n",
    "\n",
    "# save sample sizes for each group\n",
    "nobs = df_wrk.groupby([GROUP])[CHAR].agg(['count'])\n",
    "nobs.to_csv('if_' + GROUP + '_then_' + CHAR + '_nobs.csv')\n",
    "\n",
    "# print sample sizes\n",
    "print(nobs)"
   ]
  },
  {
   "cell_type": "code",
   "execution_count": 18,
   "metadata": {},
   "outputs": [
    {
     "name": "stdout",
     "output_type": "stream",
     "text": [
      "   actin (uM) enrichment type  % of GUVs\n",
      "0         8.0   no enrichment  26.923077\n",
      "1         8.0    single patch  26.923077\n",
      "2         8.0      continuous  23.076923\n",
      "3         8.0     multi patch  23.076923\n",
      "            count\n",
      "actin (uM)       \n",
      "8.0            26\n"
     ]
    },
    {
     "data": {
      "image/png": "[encoded data removed]",
      "text/plain": [
       "<Figure size 288x108 with 1 Axes>"
      ]
     },
     "metadata": {
      "needs_background": "light"
     },
     "output_type": "display_data"
    }
   ],
   "source": [
    "# filter out any data points where actin is not nucleated by Arp2/3\n",
    "df_wrk = df_cross.loc[df_cross['actin nucleation']==1]\n",
    "\n",
    "# find prevalence of CHAR under different conditions of GROUP\n",
    "GROUP = 'actin (uM)'\n",
    "CHAR = 'enrichment type'\n",
    "TITLE = ''\n",
    "\n",
    "# find prevalence of feature\n",
    "df_temp = df_wrk.groupby(GROUP)[CHAR].value_counts(normalize=True)*100\n",
    "df_temp = df_temp.to_frame(name='% of GUVs').reset_index()\n",
    "\n",
    "# write out the values\n",
    "print(df_temp)\n",
    "\n",
    "# plot\n",
    "f = plt.figure(figsize=[4, 1.5])\n",
    "ax = sns.barplot(data=df_temp, \n",
    "                 x='% of GUVs', y='enrichment type', \n",
    "                 order=['no enrichment', 'single patch', 'multi patch', 'continuous'], \n",
    "                 palette='magma')\n",
    "ax.set_xlim(0,100)\n",
    "ax.set_ylabel('')\n",
    "\n",
    "# save figure\n",
    "fig=ax.get_figure()\n",
    "fig.savefig('neck-enrichment-types.png', dpi=300, bbox_inches='tight')\n",
    "\n",
    "# save sample sizes for each group\n",
    "nobs = df_wrk.groupby([GROUP])[CHAR].agg(['count'])\n",
    "nobs.to_csv('if_' + GROUP + '_then_' + CHAR + '_nobs.csv')\n",
    "\n",
    "# print sample sizes\n",
    "print(nobs)"
   ]
  }
 ],
 "metadata": {
  "kernelspec": {
   "display_name": "Python 3",
   "language": "python",
   "name": "python3"
  },
  "language_info": {
   "codemirror_mode": {
    "name": "ipython",
    "version": 3
   },
   "file_extension": ".py",
   "mimetype": "text/x-python",
   "name": "python",
   "nbconvert_exporter": "python",
   "pygments_lexer": "ipython3",
   "version": "3.8.5"
  }
 },
 "nbformat": 4,
 "nbformat_minor": 4
}
